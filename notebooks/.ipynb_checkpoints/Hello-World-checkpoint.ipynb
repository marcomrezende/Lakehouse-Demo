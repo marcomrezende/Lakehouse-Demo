{
 "cells": [
  {
   "cell_type": "code",
   "execution_count": 1,
   "id": "06670764-a1fe-41ba-b50d-9113e6c5acf5",
   "metadata": {},
   "outputs": [],
   "source": [
    "from pyspark.sql import SparkSession\n",
    "spark = SparkSession.builder.getOrCreate()\n",
    "\n",
    "\n",
    "schema = \"id INT, nome STRING, empresa STRING, participacao INT, cidade STRING\"\n",
    "data = [\n",
    "    (1, 'Osenias', 'FPF Tech', 55, 'Manaus'),\n",
    "    (2, 'Rafael', 'FPF Tech', 45, 'Manaus'),\n",
    "    (3, 'Diego', 'Etech', 20, 'Miami'),\n",
    "    (4, 'Marco', 'Etech', 63, 'Manaus'),\n",
    "    (5, 'Samuel', 'Etech', 17, 'Manaus'),\n",
    "    (6, 'Rodrigo', 'Faculdade FPF', 110, 'Manaus'),\n",
    "]\n",
    "\n",
    "\n",
    "df = spark.createDataFrame(data=data, schema=schema)\n",
    "\n",
    "df.write.format('delta').save('s3a://datalake-poslabs/tt')"
   ]
  },
  {
   "cell_type": "code",
   "execution_count": 2,
   "id": "0afafec2-19ee-4827-99bb-6c385d4b12ac",
   "metadata": {},
   "outputs": [
    {
     "name": "stdout",
     "output_type": "stream",
     "text": [
      "+---+-------+-------------+------------+------+\n",
      "| id|   nome|      empresa|participacao|cidade|\n",
      "+---+-------+-------------+------------+------+\n",
      "|  1|Osenias|     FPF Tech|          55|Manaus|\n",
      "|  2| Rafael|     FPF Tech|          45|Manaus|\n",
      "|  3|  Diego|        Etech|          20| Miami|\n",
      "|  4|  Marco|        Etech|          63|Manaus|\n",
      "|  5| Samuel|        Etech|          17|Manaus|\n",
      "|  6|Rodrigo|Faculdade FPF|         110|Manaus|\n",
      "+---+-------+-------------+------------+------+\n",
      "\n"
     ]
    }
   ],
   "source": [
    "df.show()"
   ]
  },
  {
   "cell_type": "code",
   "execution_count": null,
   "id": "29ec79cb-5046-4d12-abfd-367f2d526f2c",
   "metadata": {},
   "outputs": [],
   "source": []
  }
 ],
 "metadata": {
  "kernelspec": {
   "display_name": "Python 3 (ipykernel)",
   "language": "python",
   "name": "python3"
  },
  "language_info": {
   "codemirror_mode": {
    "name": "ipython",
    "version": 3
   },
   "file_extension": ".py",
   "mimetype": "text/x-python",
   "name": "python",
   "nbconvert_exporter": "python",
   "pygments_lexer": "ipython3",
   "version": "3.10.6"
  }
 },
 "nbformat": 4,
 "nbformat_minor": 5
}
