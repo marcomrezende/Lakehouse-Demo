{
 "cells": [
  {
   "cell_type": "code",
   "execution_count": 2,
   "id": "d466882d-8abb-404a-8e1b-a002046bfcb7",
   "metadata": {},
   "outputs": [],
   "source": [
    "from pyspark.sql import SparkSession\n",
    "from pyspark.sql.functions import col, lit\n",
    "from delta import DeltaTable\n",
    "from pyspark import StorageLevel\n",
    "import datetime\n",
    "spark = SparkSession.builder.getOrCreate()\n",
    "\n",
    "schema = \"RoundID INT, MatchID INT, Team_Initials STRING, Coach_Name STRING, Line_up STRING, Shirt_Number INT, Player_Name STRING, Position STRING, Event STRING \"\n",
    "df_players = spark.read.option(\"header\",\"true\").schema(schema).csv('./data/WorldCupPlayers.csv')\n",
    "df_players = df_players.filter(col('Team_Initials') == 'BRA')\n",
    "current_date = datetime.datetime.utcnow()\n",
    "df_players.write.format('delta').option(\"userMetadata\", str(current_date)).save('./brazil_players')"
   ]
  },
  {
   "cell_type": "code",
   "execution_count": 3,
   "id": "af2e37fc-2efd-423b-a300-94b057205acf",
   "metadata": {},
   "outputs": [
    {
     "name": "stdout",
     "output_type": "stream",
     "text": [
      "2023-06-30 18:01:16.280664\n"
     ]
    }
   ],
   "source": [
    "delta_table = DeltaTable.forPath(spark, './brazil_players')\n",
    "print(delta_table.history().select(\"userMetadata\").collect()[0][0])"
   ]
  },
  {
   "cell_type": "code",
   "execution_count": null,
   "id": "21d6e243-aa4f-4bad-9947-c183e6eb2194",
   "metadata": {},
   "outputs": [],
   "source": []
  }
 ],
 "metadata": {
  "kernelspec": {
   "display_name": "Python 3 (ipykernel)",
   "language": "python",
   "name": "python3"
  },
  "language_info": {
   "codemirror_mode": {
    "name": "ipython",
    "version": 3
   },
   "file_extension": ".py",
   "mimetype": "text/x-python",
   "name": "python",
   "nbconvert_exporter": "python",
   "pygments_lexer": "ipython3",
   "version": "3.10.6"
  }
 },
 "nbformat": 4,
 "nbformat_minor": 5
}
